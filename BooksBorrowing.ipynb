{
 "cells": [
  {
   "cell_type": "markdown",
   "metadata": {},
   "source": [
    "# Lab Exercise 6 (Borrowing from the Library)\n",
    "The code below shows the definitions for the classes `Book`, `LibraryCard`, `BorrowableItem` and etc.\n",
    "![UML](https://i.imgur.com/9zHBavi.png)."
   ]
  },
  {
   "cell_type": "code",
   "execution_count": 1,
   "metadata": {
    "collapsed": true
   },
   "outputs": [],
   "source": [
    "from abc import ABC, abstractmethod\n",
    "\n",
    "class Date:\n",
    "    def __init__(self, month:int, day:int, year:int):\n",
    "        self.__month = month\n",
    "        self.__day = day\n",
    "        self.__year = year\n",
    "    def mdyFormat(self) -> str:\n",
    "        return str(self.__month) + \"/\" + str(self.__day) + \"/\" + str(self.__year)\n",
    "    \n",
    "class Page:\n",
    "    def __init__(self, sectionHeader:str, body: str):\n",
    "        self.__sectionHeader = sectionHeader\n",
    "        self.__body = body\n",
    "        \n",
    "class BorrowableItem(ABC):\n",
    "    @abstractmethod\n",
    "    def uniqueItemId(self) -> int:\n",
    "        pass\n",
    "    @abstractmethod\n",
    "    def commonName(self) -> str:\n",
    "        pass\n",
    "    \n",
    "    \n",
    "        \n",
    "class Book(BorrowableItem):\n",
    "    def __init__(self, bookId:int, title:str, author:str, publishDate:Date, pages: [Page]):\n",
    "        self.__bookId = bookId\n",
    "        self.__title = title\n",
    "        self.__publishDate = publishDate\n",
    "        self.__author = author\n",
    "        self.__pages = pages\n",
    "    def coverInfo(self) -> str:\n",
    "        return \"Title: \" + self.__title + \"\\nAuthor: \" + self.__author\n",
    "    def uniqueItemId(self) -> int:\n",
    "        return self.__bookId\n",
    "    def commonName(self) -> str:\n",
    "        return \"Borrowed Item:\" + self.__title + \" by \" + self.__author\n",
    "    \n",
    "\n",
    "class LibraryCard:\n",
    "    def __init__(self, idNumber: int, name: str, borrowedItems: {BorrowableItem:Date}):\n",
    "        self.__idNumber = idNumber\n",
    "        self.__name = name\n",
    "        self.__borrowedItems = borrowedItems\n",
    "    def borrowItem(self,book:BorrowableItem, date:Date):\n",
    "        self.__borrowedItems[book] = date\n",
    "    def borrowerReport(self) -> str:\n",
    "        r:str = self.__name + \"\\n\"\n",
    "        for borrowedItem in self.__borrowedItems:\n",
    "            r = r + borrowedItem.commonName() + \", borrow date:\" + self.__borrowedItems[borrowedItem].mdyFormat() + \"\\n\"\n",
    "        return r"
   ]
  },
  {
   "cell_type": "markdown",
   "metadata": {},
   "source": [
    "Creating an instance of a `BorrowableItem` (in this case the realization `Book`) is done using the following code:"
   ]
  },
  {
   "cell_type": "code",
   "execution_count": 2,
   "metadata": {},
   "outputs": [
    {
     "name": "stdout",
     "output_type": "stream",
     "text": [
      "Title: Corpus Hermeticum\n",
      "Author: Hermes Trismegistus\n"
     ]
    }
   ],
   "source": [
    "b:BorrowableItem = Book(10991,\"Corpus Hermeticum\", \"Hermes Trismegistus\", Date(9,1,1991), [])\n",
    "print(b.coverInfo())"
   ]
  },
  {
   "cell_type": "markdown",
   "metadata": {},
   "source": [
    "Creating an instance of a `LibraryCard` is done using the following."
   ]
  },
  {
   "cell_type": "code",
   "execution_count": 3,
   "metadata": {
    "collapsed": true
   },
   "outputs": [],
   "source": [
    "l:LibraryCard = LibraryCard(9982,\"Rubelito Abella\",{})"
   ]
  },
  {
   "cell_type": "markdown",
   "metadata": {},
   "source": [
    "A library card borrows something using the `borrowItem(BorrowableItem)` method. And the `borrowerReport()` prints the library card owners name and the items he/she has borrowed."
   ]
  },
  {
   "cell_type": "code",
   "execution_count": 4,
   "metadata": {},
   "outputs": [
    {
     "name": "stdout",
     "output_type": "stream",
     "text": [
      "Rubelito Abella\n",
      "Borrowed Item:Corpus Hermeticum by Hermes Trismegistus, borrow date:9/25/2019\n",
      "\n"
     ]
    }
   ],
   "source": [
    "l.borrowItem(b,Date(9,25,2019))\n",
    "print(l.borrowerReport())"
   ]
  },
  {
   "cell_type": "markdown",
   "metadata": {},
   "source": [
    "### What you should do:\n",
    "#### The class definitions above are still missing `Periodical` and `PC`. \n",
    " - a **`Periodical`** represents a periodical (newspaper, magazines, etc). It is a realization of a `BorrowableItem`. It contains the following methods and attributes:\n",
    "     - `__periodicalID:int`: unique id for a periodical\n",
    "     - `__title:str`: The title of the periodical (\"National Geographic\", \"New York Times\")\n",
    "     - `__issue:Date`: The date when the issue weas published\n",
    "     - `__pages:[Page]`: A list of `Page`s that represent the contents\n",
    "     - `uniqueItemId()`: Returns `periodicalID`\n",
    "     - `commonName():str`: (Implementation of the abstract method from `BorrowableItem`). It returns the title and the date in month/date/year format as a string\n",
    " - a **`PC`** represents a library PC. It is a realization of a `BorrowableItem`.  It contains the following methods and attributes:\n",
    "     - `__pcID:int` : unique id for a PC\n",
    "     - `uniqueItemId():int`: Returns `__pcID`\n",
    "     - `commonName():str`: (Implementation of the abstract method from `BorrowableItem`). It returns \"PC[\\_\\_pcID]\" (the string \"PC\" followed by the attribute `__pcID`)\n",
    "\n",
    "#### Add the following methods to `LibraryCard` and implement them\n",
    " - **`returnItem(b:BorrowableItem):`** : returns nothing, it removes the `BorrowableItem`, `b` from the `__borrowedItems` attribute.\n",
    " - **`penalty(b:BorrowableItem,today:Date):float`** : returns a float which is the calculated penalty for `BorrowableItem`, `b` when returned today. Every day after the due date the penalty increases by 3.5. An item which is overdue for 4 days has a penalty of 14. \n",
    " - **`itemsDue(today:Date):[BorrowableItem]`** : returns a list of `BorrowableItem`s which are on or past the due date. The due date for a `Book` is 7 days, a `Periodical` is 1 day, and a `PC` is 0 days.\n",
    " - **`totalPenalty(today:Date):float`** : returns a float which is the total penalty for all the overdue items when calculated today\n",
    "\n",
    "Feel free (in fact you are encouraged) to add extra methods (to any of the classes above) that will help you in implementing these methods. Just make sure the extra methods don't unnecessarily expose hidden attributes. Be creative"
   ]
  },
  {
   "cell_type": "code",
   "execution_count": null,
   "metadata": {
    "collapsed": true
   },
   "outputs": [],
   "source": []
  }
 ],
 "metadata": {
  "kernelspec": {
   "display_name": "Python 3",
   "language": "python",
   "name": "python3"
  },
  "language_info": {
   "codemirror_mode": {
    "name": "ipython",
    "version": 3
   },
   "file_extension": ".py",
   "mimetype": "text/x-python",
   "name": "python",
   "nbconvert_exporter": "python",
   "pygments_lexer": "ipython3",
   "version": "3.6.8"
  }
 },
 "nbformat": 4,
 "nbformat_minor": 2
}
